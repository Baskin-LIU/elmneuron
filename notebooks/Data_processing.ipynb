{
 "cells": [
  {
   "cell_type": "markdown",
   "id": "09350d52-4566-47ea-b69f-b032cc31720f",
   "metadata": {},
   "source": [
    "## Load and Visualize NeuronIO"
   ]
  },
  {
   "cell_type": "code",
   "execution_count": 1,
   "id": "a9494ea3-a5b5-4814-bcb0-7128fcc18432",
   "metadata": {},
   "outputs": [],
   "source": [
    "import gc\n",
    "import os\n",
    "import sys\n",
    "import h5py\n",
    "import random\n",
    "from pathlib import Path\n",
    "\n",
    "import numpy as np\n",
    "import torch\n",
    "import torch.nn as nn\n",
    "import torch.optim as optim\n",
    "from torch.optim.lr_scheduler import CosineAnnealingLR\n",
    "from tqdm import tqdm\n",
    "\n",
    "package_path = Path(os.path.abspath(os.path.join(os.path.dirname('__file__'), '..')))\n",
    "sys.path.insert(0, str(package_path))"
   ]
  },
  {
   "cell_type": "code",
   "execution_count": null,
   "id": "807bd9d9-7cae-473b-95e8-20f99ecb6c1e",
   "metadata": {},
   "outputs": [],
   "source": [
    "from src.neuronio.neuronio_data_utils import (\n",
    "    DEFAULT_Y_SOMA_THRESHOLD,\n",
    "    DEFAULT_Y_TRAIN_SOMA_BIAS,\n",
    "    DEFAULT_Y_TRAIN_SOMA_SCALE,\n",
    "    NEURONIO_DATA_DIM,\n",
    "    NEURONIO_LABEL_DIM,\n",
    "    NEURONIO_SIM_LEN,\n",
    "    NEURONIO_SIM_PER_FILE,\n",
    "    create_neuronio_input_type,\n",
    "    parse_sim_experiment_file,\n",
    "    get_data_files_from_folder, \n",
    ")"
   ]
  },
  {
   "cell_type": "code",
   "execution_count": null,
   "id": "3fd6b2a0-067c-4f12-9c1c-bf498144e557",
   "metadata": {},
   "outputs": [],
   "source": [
    "data_dir_path = Path(\"D:/NeuronIO\").expanduser().resolve() # TODO: change to neuronio data path\n",
    "train_data_dir_path = data_dir_path / \"train\"  # TODO: change to train subfolder\n",
    "test_data_dir_path = data_dir_path / \"test/Data_test\"  # TODO: change to test subfolder\n",
    "\n",
    "data_config = dict()\n",
    "train_data_dirs = [\n",
    "    str(train_data_dir_path / \"full_ergodic_train_batch_1\"),\n",
    "    str(train_data_dir_path / \"full_ergodic_train_batch_2\"),\n",
    "    str(train_data_dir_path / \"full_ergodic_train_batch_3\"),\n",
    "    str(train_data_dir_path / \"full_ergodic_train_batch_4\"),\n",
    "    str(train_data_dir_path / \"full_ergodic_train_batch_5\"),\n",
    "    str(train_data_dir_path / \"full_ergodic_train_batch_6\"),\n",
    "    str(train_data_dir_path / \"full_ergodic_train_batch_7\"),\n",
    "    str(train_data_dir_path / \"full_ergodic_train_batch_8\"),\n",
    "    str(train_data_dir_path / \"full_ergodic_train_batch_9\"),\n",
    "    str(train_data_dir_path / \"full_ergodic_train_batch_10\"),\n",
    "]\n",
    "test_data_dirs = [str(test_data_dir_path)]\n",
    "\n",
    "data_config[\"train_data_dirs\"] = train_data_dirs\n",
    "data_config[\"test_data_dirs\"] = test_data_dirs\n",
    "\n",
    "data_config[\"data_dim\"] = NEURONIO_DATA_DIM \n",
    "data_config[\"label_dim\"] = NEURONIO_LABEL_DIM\n",
    "\n",
    "train_files = get_data_files_from_folder(data_config[\"train_data_dirs\"])\n",
    "test_files = get_data_files_from_folder(data_config[\"test_data_dirs\"])"
   ]
  },
  {
   "cell_type": "code",
   "execution_count": null,
   "id": "12cd7446-fda4-473a-bf52-aa56e67f9982",
   "metadata": {},
   "outputs": [],
   "source": [
    "ignore_time_from_start = 500\n",
    "threshold = -65\n",
    "threshold_h = -60\n",
    "section_len = 200\n",
    "start_point_persec = 20"
   ]
  },
  {
   "cell_type": "code",
   "execution_count": null,
   "id": "c32a4d83-0463-4b5d-bbcd-49a238719b2f",
   "metadata": {},
   "outputs": [],
   "source": [
    "save_path = '../data_processed/NeuronIOstartpoint/'\n",
    "for file_path in test_files:\n",
    "    X, y_spike, y_soma = parse_sim_experiment_file(\n",
    "        sim_experiment_file=file_path,\n",
    "        include_params=False,\n",
    "        )\n",
    "    sim_len, sim_num = y_soma.shape\n",
    "    num_sec = int(sim_len/section_len)\n",
    "    sections = y_soma.T.reshape([sim_num,num_sec,section_len])\n",
    "    start_time  = np.ones([sim_num, num_sec, start_point_persec], dtype=int)\n",
    "    for sim in range(sim_num):\n",
    "        for i in range(num_sec):\n",
    "            choice = (sections[sim, i, :] < threshold).nonzero()[0]\n",
    "            if len(choice) < start_point_persec:\n",
    "                choice = (sections[sim, i, :] < threshold_h).nonzero()[0]\n",
    "            try:\n",
    "                start_time[sim, i, :] = np.random.choice(choice, start_point_persec, replace=False)\n",
    "            except:\n",
    "                start_time[sim, i, :] = np.random.choice(choice, start_point_persec, replace=True)\n",
    "                print(file_path[-93:-2])\n",
    "                print(len(choice))\n",
    "            start_time[sim, i, :] += i * section_len\n",
    "    \n",
    "    start_time = start_time.reshape([sim_num, -1])\n",
    "    np.save(save_path + file_path[-92:-2]+'.npy', start_time, allow_pickle=True)\n",
    "    #print(file_path[-93:-2])"
   ]
  },
  {
   "cell_type": "code",
   "execution_count": null,
   "id": "52eb10c3-100a-4a1d-aad8-f9b00b364013",
   "metadata": {},
   "outputs": [],
   "source": [
    "start_time.shape"
   ]
  },
  {
   "cell_type": "code",
   "execution_count": null,
   "id": "532c3a98-a091-4d29-8c27-41e6e77dba82",
   "metadata": {},
   "outputs": [],
   "source": [
    "train_files[1]"
   ]
  },
  {
   "cell_type": "code",
   "execution_count": 152,
   "id": "110aee50-de02-45bd-9823-b9a7041e4533",
   "metadata": {},
   "outputs": [
    {
     "data": {
      "text/plain": [
       "300"
      ]
     },
     "execution_count": 152,
     "metadata": {},
     "output_type": "execute_result"
    }
   ],
   "source": [
    "len(train_files)"
   ]
  },
  {
   "cell_type": "code",
   "execution_count": 141,
   "id": "95167051-bb72-48b3-a7dc-1f64b540e050",
   "metadata": {},
   "outputs": [
    {
     "data": {
      "text/plain": [
       "np.int64(65)"
      ]
     },
     "execution_count": 141,
     "metadata": {},
     "output_type": "execute_result"
    }
   ],
   "source": [
    "sections = y_soma.T.reshape([sim_num,num_sec,section_len])\n",
    "(sections < threshold_h).sum(axis=-1).min()"
   ]
  },
  {
   "cell_type": "code",
   "execution_count": 41,
   "id": "971ef436-bba0-48ce-9ab3-b2a452827596",
   "metadata": {},
   "outputs": [
    {
     "data": {
      "text/plain": [
       "np.int64(4223)"
      ]
     },
     "execution_count": 41,
     "metadata": {},
     "output_type": "execute_result"
    }
   ],
   "source": [
    "(y_soma[ignore_time_from_start:] < threshold).sum(axis=0).min()"
   ]
  },
  {
   "cell_type": "code",
   "execution_count": null,
   "id": "92fb8fea-97e7-466e-9053-b8f3f785b118",
   "metadata": {},
   "outputs": [],
   "source": [
    "# put them all to select\n",
    "# select 4000 from each simulation"
   ]
  },
  {
   "cell_type": "code",
   "execution_count": 52,
   "id": "ca3616d3-f503-4d9b-bf31-99194a70b242",
   "metadata": {},
   "outputs": [],
   "source": []
  },
  {
   "cell_type": "code",
   "execution_count": 145,
   "id": "88869cb6-9a83-49db-80e6-09a6543048e5",
   "metadata": {},
   "outputs": [],
   "source": [
    "sections = y_soma.T.reshape([sim_num,num_sec,section_len])\n",
    "start_time  = np.ones([sim_num, num_sec, start_point_persec], dtype=int)\n",
    "for sim in range(sim_num):\n",
    "    for i in range(num_sec):\n",
    "        choice = (sections[sim, i, :] < threshold).nonzero()[0]\n",
    "        if len(choice) < start_point_persec:\n",
    "            choice = (sections[sim, i, :] < threshold_h).nonzero()[0]\n",
    "        start_time[sim, i, :] = np.random.choice(choice, start_point_persec, replace=False)\n",
    "        start_time[sim, i, :] += i * section_len\n",
    "\n",
    "start_time = start_time.reshape([sim_num, -1])"
   ]
  },
  {
   "cell_type": "code",
   "execution_count": 148,
   "id": "df04c9a0-bcba-4091-932e-4e254b4458b7",
   "metadata": {
    "scrolled": true
   },
   "outputs": [
    {
     "data": {
      "text/plain": [
       "array([-81.0625, -80.875 , -80.75  , -80.8125, -79.25  , -78.375 ,\n",
       "       -81.    , -81.1875, -80.6875, -81.1875, -81.0625, -80.8125,\n",
       "       -80.6875, -80.875 , -80.6875, -80.75  , -80.6875, -80.875 ,\n",
       "       -78.6875, -80.9375, -80.75  , -81.    , -80.9375, -80.8125,\n",
       "       -80.75  , -80.875 , -81.    , -80.9375, -80.875 , -80.75  ,\n",
       "       -80.875 , -81.    , -80.8125, -80.6875, -80.75  , -80.9375,\n",
       "       -80.8125, -80.8125, -80.8125, -80.75  , -80.875 , -80.75  ,\n",
       "       -80.9375, -80.9375, -80.9375, -80.6875, -80.875 , -80.6875,\n",
       "       -80.875 , -80.9375, -80.875 , -80.75  , -80.9375, -80.8125,\n",
       "       -80.9375, -81.    , -80.75  , -80.9375, -80.875 , -80.9375,\n",
       "       -81.0625, -80.875 , -80.9375, -81.0625, -80.9375, -81.0625,\n",
       "       -81.    , -81.125 , -80.8125, -81.    , -80.875 , -81.125 ,\n",
       "       -81.0625, -81.    , -81.0625, -80.875 , -80.9375, -81.125 ,\n",
       "       -80.6875, -80.875 , -80.875 , -80.8125, -80.75  , -81.0625,\n",
       "       -80.6875, -80.75  , -80.8125, -81.0625, -80.875 , -81.0625,\n",
       "       -80.8125, -80.75  , -81.    , -80.9375, -80.625 , -80.8125,\n",
       "       -80.875 , -80.9375, -80.875 , -81.    , -80.75  , -80.625 ,\n",
       "       -80.9375, -81.0625, -81.125 , -81.125 , -81.    , -80.625 ,\n",
       "       -81.125 , -80.6875, -81.    , -80.8125, -80.6875, -81.    ,\n",
       "       -80.9375, -80.625 , -81.0625, -80.9375, -81.1875, -81.125 ,\n",
       "       -76.    , -73.8125, -76.25  , -74.4375, -76.125 , -75.1875,\n",
       "       -74.625 , -74.5   , -78.375 , -74.75  , -76.125 , -75.1875,\n",
       "       -74.375 , -74.1875, -80.9375, -74.75  , -73.875 , -74.6875,\n",
       "       -74.875 , -76.1875, -74.6875, -67.6875, -74.125 , -74.25  ,\n",
       "       -74.625 , -75.4375, -75.3125, -74.5625, -73.1875, -72.625 ,\n",
       "       -68.4375, -75.5   , -75.1875, -73.625 , -74.4375, -73.6875,\n",
       "       -73.8125, -68.625 , -71.6875, -74.5   , -72.875 , -76.125 ,\n",
       "       -75.1875, -73.9375, -73.5   , -75.25  , -74.3125, -75.5625,\n",
       "       -67.125 , -74.625 , -74.3125, -75.5   , -73.75  , -71.8125,\n",
       "       -75.0625, -74.6875, -73.75  , -70.4375, -74.25  , -73.8125,\n",
       "       -68.875 , -67.25  , -68.375 , -73.8125, -65.125 , -65.0625,\n",
       "       -66.625 , -74.    , -70.5   , -66.875 , -68.5625, -65.875 ,\n",
       "       -72.6875, -66.875 , -67.9375, -67.8125, -65.6875, -73.8125,\n",
       "       -67.75  , -66.9375, -71.3125, -70.5625, -71.375 , -67.6875,\n",
       "       -71.125 , -71.3125, -68.875 , -71.875 , -69.25  , -71.5   ,\n",
       "       -69.5   , -71.    , -71.8125, -71.75  , -70.1875, -72.    ,\n",
       "       -72.75  , -68.75  , -72.9375, -71.4375, -70.8125, -70.9375,\n",
       "       -72.875 , -71.8125, -71.1875, -68.9375, -71.125 , -71.1875,\n",
       "       -72.4375, -72.375 , -72.    , -72.375 , -73.125 , -70.375 ,\n",
       "       -70.875 , -71.0625, -72.6875, -70.5   , -72.6875, -71.6875,\n",
       "       -70.8125, -70.    , -69.    , -67.5625, -69.8125, -67.125 ,\n",
       "       -68.5   , -69.9375, -70.6875, -69.75  , -68.    , -69.625 ,\n",
       "       -68.125 , -67.0625, -69.1875, -67.9375, -67.75  , -68.8125,\n",
       "       -69.1875, -70.625 , -67.5   , -66.875 , -67.0625, -69.8125,\n",
       "       -66.1875, -67.125 , -69.6875, -69.375 , -68.    , -66.6875,\n",
       "       -66.5   , -67.9375, -66.6875, -67.625 , -66.5625, -67.875 ,\n",
       "       -67.5   , -67.875 , -68.4375, -67.5625, -65.8125, -65.375 ,\n",
       "       -67.    , -67.5625, -65.4375, -66.6875, -68.25  , -65.8125,\n",
       "       -66.125 , -66.4375, -67.625 , -65.875 , -65.0625, -67.25  ,\n",
       "       -67.0625, -65.9375, -65.75  , -67.375 , -66.875 , -67.25  ,\n",
       "       -66.4375, -66.375 , -66.5   , -66.75  , -68.1875, -68.4375,\n",
       "       -69.3125, -66.3125, -67.1875, -69.3125, -66.3125, -68.75  ,\n",
       "       -68.9375, -67.4375, -66.0625, -68.0625, -68.0625, -66.5   ,\n",
       "       -68.5625, -66.5   , -68.3125, -66.8125, -68.8125, -67.875 ,\n",
       "       -68.625 , -69.1875, -69.625 , -67.75  , -66.8125, -68.75  ,\n",
       "       -68.5   , -68.875 , -68.    , -68.    , -69.6875, -68.375 ,\n",
       "       -68.8125, -67.    , -67.75  , -67.125 , -70.25  , -71.8125,\n",
       "       -72.625 , -69.5   , -74.5   , -70.0625, -68.9375, -68.9375,\n",
       "       -69.75  , -69.75  , -71.3125, -72.5   , -79.1875, -69.875 ,\n",
       "       -74.8125, -69.6875, -72.0625, -76.25  , -76.5625, -71.625 ,\n",
       "       -79.25  , -79.0625, -79.5   , -78.6875, -78.75  , -79.0625,\n",
       "       -78.8125, -79.1875, -79.3125, -79.0625, -79.1875, -78.9375,\n",
       "       -78.6875, -78.625 , -79.3125, -79.0625, -78.5   , -79.375 ,\n",
       "       -78.9375, -78.875 , -79.625 , -78.6875, -79.5625, -78.9375,\n",
       "       -79.8125, -78.5625, -78.875 , -79.0625, -79.9375, -78.5   ,\n",
       "       -78.5   , -79.1875, -79.625 , -79.    , -79.    , -78.8125,\n",
       "       -79.625 , -79.9375, -79.125 , -79.125 , -78.9375, -78.5625,\n",
       "       -78.25  , -78.0625, -78.625 , -79.125 , -79.1875, -78.5625,\n",
       "       -78.8125, -79.    , -79.25  , -78.875 , -79.0625, -78.5   ,\n",
       "       -78.875 , -78.5625, -79.0625, -79.8125, -79.3125, -78.75  ,\n",
       "       -78.6875, -78.8125, -79.1875, -78.5   , -79.    , -78.5625,\n",
       "       -78.8125, -78.8125, -79.4375, -78.9375, -78.125 , -79.    ,\n",
       "       -78.375 , -78.75  , -79.    , -78.875 , -78.9375, -79.25  ,\n",
       "       -78.1875, -78.9375, -80.125 , -79.125 , -78.9375, -78.3125,\n",
       "       -79.1875, -78.75  , -79.375 , -78.375 , -79.125 , -78.6875,\n",
       "       -78.25  , -78.4375, -79.75  , -77.8125, -78.8125, -78.875 ,\n",
       "       -78.9375, -79.1875, -78.8125, -79.5625, -79.625 , -79.0625,\n",
       "       -80.1875, -79.8125, -79.6875, -79.8125, -79.8125, -79.3125,\n",
       "       -79.5625, -79.375 , -79.75  , -79.375 , -79.6875, -80.125 ,\n",
       "       -79.4375, -80.1875, -79.75  , -79.75  , -79.875 , -79.25  ,\n",
       "       -81.0625, -79.5   , -81.1875, -81.    , -81.0625, -81.0625,\n",
       "       -79.9375, -80.0625, -81.1875, -80.1875, -81.125 , -80.75  ,\n",
       "       -79.875 , -81.1875, -80.0625, -81.125 , -81.1875, -79.9375,\n",
       "       -79.9375, -80.    , -81.0625, -81.0625, -81.    , -81.125 ,\n",
       "       -81.    , -81.125 , -81.1875, -81.0625, -81.    , -80.8125,\n",
       "       -80.9375, -81.    , -81.0625, -80.8125, -81.1875, -81.0625,\n",
       "       -81.1875, -81.    , -80.875 , -80.8125, -80.875 , -81.    ,\n",
       "       -81.0625, -81.    , -80.9375, -81.    , -80.9375, -81.0625,\n",
       "       -80.9375, -81.    , -80.9375, -81.    , -80.875 , -80.875 ,\n",
       "       -81.    , -80.875 , -81.    , -81.    , -80.9375, -80.875 ,\n",
       "       -81.1875, -81.0625, -80.875 , -81.0625, -81.125 , -81.125 ,\n",
       "       -81.125 , -81.125 , -81.125 , -80.8125, -81.0625, -80.875 ,\n",
       "       -80.875 , -81.0625, -81.1875, -80.9375, -80.875 , -81.125 ,\n",
       "       -81.125 , -81.125 , -81.0625, -80.875 , -81.0625, -80.9375,\n",
       "       -80.9375, -80.875 , -80.9375, -81.0625, -81.    , -80.9375,\n",
       "       -81.    , -80.875 , -80.875 , -81.0625, -80.875 , -80.9375,\n",
       "       -81.0625, -81.0625, -81.    , -80.875 , -80.9375, -81.    ,\n",
       "       -81.    , -80.9375, -80.9375, -80.9375, -80.9375, -80.8125,\n",
       "       -81.    , -80.9375, -80.9375, -80.9375, -80.9375, -80.9375,\n",
       "       -80.9375, -80.9375, -80.9375, -80.9375, -80.9375, -80.9375])"
      ]
     },
     "execution_count": 148,
     "metadata": {},
     "output_type": "execute_result"
    }
   ],
   "source": [
    "y_soma[start_time[0], 0]"
   ]
  },
  {
   "cell_type": "code",
   "execution_count": 149,
   "id": "8762e847-f8b6-4ec0-a4ca-6cdadd822afa",
   "metadata": {
    "scrolled": true
   },
   "outputs": [
    {
     "name": "stdout",
     "output_type": "stream",
     "text": [
      "-65.0625\n",
      "-65.0625\n",
      "-65.0625\n",
      "-65.0625\n",
      "-65.0625\n",
      "-65.125\n",
      "-60.15625\n",
      "-65.1875\n",
      "-65.0625\n",
      "-65.0625\n",
      "-65.0625\n",
      "-60.40625\n",
      "-65.125\n",
      "-60.09375\n",
      "-65.125\n",
      "-65.0625\n",
      "-65.375\n",
      "-65.0625\n",
      "-65.5\n",
      "-65.0625\n",
      "-60.0625\n",
      "-65.0625\n",
      "-65.1875\n",
      "-65.0625\n",
      "-65.0625\n",
      "-65.0625\n",
      "-60.03125\n",
      "-65.375\n",
      "-65.125\n",
      "-60.5\n",
      "-60.03125\n",
      "-65.25\n",
      "-60.03125\n",
      "-60.0625\n",
      "-65.3125\n",
      "-65.0625\n",
      "-60.03125\n",
      "-60.0625\n",
      "-60.125\n",
      "-65.125\n",
      "-65.0625\n",
      "-65.0625\n",
      "-65.0625\n",
      "-60.0625\n",
      "-60.0625\n",
      "-65.0625\n",
      "-65.0625\n",
      "-65.0625\n",
      "-65.0625\n",
      "-65.1875\n",
      "-65.9375\n",
      "-65.0625\n",
      "-65.0625\n",
      "-60.28125\n",
      "-65.0625\n",
      "-65.0625\n",
      "-65.0625\n",
      "-60.15625\n",
      "-65.0625\n",
      "-65.0625\n",
      "-65.125\n",
      "-65.0625\n",
      "-65.1875\n",
      "-65.8125\n",
      "-65.1875\n",
      "-60.375\n",
      "-60.03125\n",
      "-65.125\n",
      "-65.3125\n",
      "-65.1875\n",
      "-60.0625\n",
      "-65.0625\n",
      "-60.03125\n",
      "-65.5\n",
      "-65.0625\n",
      "-65.0625\n",
      "-60.9375\n",
      "-60.15625\n",
      "-65.125\n",
      "-65.125\n",
      "-60.0625\n",
      "-60.625\n",
      "-60.125\n",
      "-60.5\n",
      "-60.03125\n",
      "-65.4375\n",
      "-65.0625\n",
      "-60.125\n",
      "-60.125\n",
      "-65.0625\n",
      "-65.0625\n",
      "-65.375\n",
      "-65.1875\n",
      "-65.0625\n",
      "-60.03125\n",
      "-69.5\n",
      "-60.03125\n",
      "-60.4375\n",
      "-65.0625\n",
      "-60.5\n",
      "-65.125\n",
      "-65.0625\n",
      "-65.0625\n",
      "-65.0625\n",
      "-60.03125\n",
      "-60.0625\n",
      "-65.3125\n",
      "-65.0625\n",
      "-60.1875\n",
      "-60.09375\n",
      "-60.5\n",
      "-65.0625\n",
      "-60.96875\n",
      "-60.53125\n",
      "-65.0625\n",
      "-68.125\n",
      "-65.0625\n",
      "-65.3125\n",
      "-65.0625\n",
      "-65.0625\n",
      "-60.03125\n",
      "-65.0625\n",
      "-60.03125\n",
      "-65.0625\n",
      "-65.0625\n",
      "-65.0625\n",
      "-65.0625\n",
      "-65.0625\n"
     ]
    }
   ],
   "source": [
    "for sim in range(sim_num):\n",
    "    print(y_soma[start_time[sim], sim].max())"
   ]
  },
  {
   "cell_type": "markdown",
   "id": "c9f479f0-9b3c-430e-b130-0a13c87a9b3c",
   "metadata": {},
   "source": [
    "## Generating Random Input"
   ]
  },
  {
   "cell_type": "code",
   "execution_count": null,
   "id": "ec6f8f69-9bc0-4599-9668-9a677df7012e",
   "metadata": {},
   "outputs": [],
   "source": []
  },
  {
   "cell_type": "markdown",
   "id": "fc2a90b2-27c1-4dd4-89d9-b54356de0801",
   "metadata": {},
   "source": [
    "## Load Trained model"
   ]
  },
  {
   "cell_type": "code",
   "execution_count": null,
   "id": "ffc7f5af-f2b6-4758-8611-58ba4ac62463",
   "metadata": {},
   "outputs": [],
   "source": [
    "# Initialize the ELM model\n",
    "model = ELM(**model_config).to(torch_device)\n",
    "\n",
    "# Load the best model for evaluation\n",
    "state_dict = torch.load(general_config[\"artefacts_dir\"] + \"/neuronio_best_model_state.pt\", map_location=torch_device)\n",
    "print(model.load_state_dict(state_dict))\n",
    "# Visualize ELM model\n",
    "print(model)"
   ]
  },
  {
   "cell_type": "markdown",
   "id": "b9e54899-b78c-488b-aa55-a8c3117b1913",
   "metadata": {},
   "source": [
    "## Generating Output from random input"
   ]
  },
  {
   "cell_type": "code",
   "execution_count": null,
   "id": "f1cef91e-5453-4bd0-b740-bd1e568d561a",
   "metadata": {},
   "outputs": [],
   "source": [
    "from src.neuronio.neuronio_eval_utils import (\n",
    "    NeuronioEvaluator, \n",
    "    compute_test_predictions_multiple_sim_files, \n",
    "    filter_and_extract_core_results,\n",
    ")\n",
    "\n",
    "with torch.no_grad():\n",
    "    test_predictions = compute_test_predictions_multiple_sim_files(\n",
    "        neuron=model,\n",
    "        test_files=test_files,\n",
    "        burn_in_time=train_config[\"burn_in_time\"],\n",
    "        input_window_size=train_config[\"input_window_size\"],\n",
    "        device=torch_device,\n",
    "    )\n",
    "    test_results = filter_and_extract_core_results(*test_predictions, verbose=False)\n",
    "\n",
    "eval_results = dict()\n",
    "if general_config[\"train_valid_eval\"]:\n",
    "    eval_results[\"train_results\"] = train_results\n",
    "    eval_results[\"valid_results\"] = valid_results\n",
    "eval_results[\"test_results\"] = test_results"
   ]
  }
 ],
 "metadata": {
  "kernelspec": {
   "display_name": "Python 3 (ipykernel)",
   "language": "python",
   "name": "python3"
  },
  "language_info": {
   "codemirror_mode": {
    "name": "ipython",
    "version": 3
   },
   "file_extension": ".py",
   "mimetype": "text/x-python",
   "name": "python",
   "nbconvert_exporter": "python",
   "pygments_lexer": "ipython3",
   "version": "3.9.21"
  }
 },
 "nbformat": 4,
 "nbformat_minor": 5
}
